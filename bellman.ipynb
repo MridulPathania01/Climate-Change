{
 "cells": [
  {
   "cell_type": "code",
   "execution_count": 2,
   "metadata": {},
   "outputs": [
    {
     "name": "stdout",
     "output_type": "stream",
     "text": [
      "Optimal Value Function after iteration:\n",
      "[[-0.20752299 -0.21586654 -0.26664288 -0.22532572]\n",
      " [-0.20615213  0.         -0.22532572 -0.26664288]\n",
      " [-0.20592785 -0.20589691  0.         -0.21586654]\n",
      " [ 0.         -0.20592785 -0.20615213 -0.20752299]]\n"
     ]
    }
   ],
   "source": [
    "import numpy as np\n",
    "grid_size=4\n",
    "discount_factor=0.8\n",
    "reward_obstacle=-1\n",
    "reward_goal=10\n",
    "reward_step=-0.1\n",
    "grid=np.zeros((grid_size,grid_size))\n",
    "obstacles=[(1,1),(2,2),(3,0)]\n",
    "for obstacle in obstacles:\n",
    "  grid[obstacle]=1\n",
    "reward_grid=np.full((grid_size,grid_size),reward_step)\n",
    "for obstacle in obstacles:\n",
    "  reward_grid[obstacle]=reward_obstacle\n",
    "actions=[(0,1),(0,-1),(1,0),(-1,0)]\n",
    "value_function=np.zeros((grid_size,grid_size))\n",
    "def is_valid_state(x,y):\n",
    "  return 0<=x<grid_size and 0<=y<grid_size and grid[x][y]==0\n",
    "def bellman_update():\n",
    "  new_value_function=np.copy(value_function)\n",
    "  for i in range(grid_size):\n",
    "    for j in range(grid_size):\n",
    "      if (i,j) in obstacles:\n",
    "        continue\n",
    "      value_sum=0\n",
    "      for action in actions:\n",
    "        new_x,new_y=i+action[0],j+action[1]\n",
    "        if is_valid_state(new_x,new_y):\n",
    "          value_sum+=0.25*(reward_grid[new_x][new_y]+discount_factor*value_function[new_x][new_y])\n",
    "      new_value_function[i,j]=reward_grid[i,j]+discount_factor*value_sum\n",
    "  return new_value_function\n",
    "iterations=100\n",
    "for iteration in range(iterations):\n",
    "  value_function=bellman_update()\n",
    "print(\"Optimal Value Function after iteration:\")\n",
    "print(value_function)"
   ]
  },
  {
   "cell_type": "code",
   "execution_count": null,
   "metadata": {},
   "outputs": [],
   "source": []
  }
 ],
 "metadata": {
  "kernelspec": {
   "display_name": "base",
   "language": "python",
   "name": "python3"
  },
  "language_info": {
   "codemirror_mode": {
    "name": "ipython",
    "version": 3
   },
   "file_extension": ".py",
   "mimetype": "text/x-python",
   "name": "python",
   "nbconvert_exporter": "python",
   "pygments_lexer": "ipython3",
   "version": "3.11.5"
  }
 },
 "nbformat": 4,
 "nbformat_minor": 2
}
